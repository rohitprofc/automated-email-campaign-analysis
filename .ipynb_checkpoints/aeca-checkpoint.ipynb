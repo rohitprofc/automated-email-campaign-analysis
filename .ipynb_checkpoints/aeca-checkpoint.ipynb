{
 "cells": [
  {
   "cell_type": "code",
   "execution_count": null,
   "metadata": {},
   "outputs": [],
   "source": [
    "import pandas as pd\n",
    "import matplotlib.pyplot as plt\n",
    "import seaborn as sns\n",
    "import openpyxl"
   ]
  },
  {
   "cell_type": "code",
   "execution_count": null,
   "metadata": {},
   "outputs": [],
   "source": [
    "df = pd.read_csv('email_campaign_data.csv')"
   ]
  },
  {
   "cell_type": "code",
   "execution_count": null,
   "metadata": {},
   "outputs": [],
   "source": [
    "summary_stats = df.describe()\n",
    "print(summary_stats)"
   ]
  },
  {
   "cell_type": "code",
   "execution_count": null,
   "metadata": {},
   "outputs": [],
   "source": [
    "open_rates = df.groupby('date')['opened'].mean()\n",
    "plt.figure(figsize=(10, 5))\n",
    "sns.lineplot(data=open_rates)\n",
    "plt.title('Open Rates Over Time')\n",
    "plt.xlabel('Date')\n",
    "plt.ylabel('Open Rate')\n",
    "plt.show()"
   ]
  },
  {
   "cell_type": "code",
   "execution_count": null,
   "metadata": {},
   "outputs": [],
   "source": [
    "ctr = df.groupby('date')['clicked'].mean()\n",
    "plt.figure(figsize=(10, 5))\n",
    "sns.lineplot(data=ctr)\n",
    "plt.title('Click-Through Rates Over Time')\n",
    "plt.xlabel('Date')\n",
    "plt.ylabel('Click-Through Rate')\n",
    "plt.show()\n"
   ]
  },
  {
   "cell_type": "code",
   "execution_count": null,
   "metadata": {},
   "outputs": [],
   "source": [
    "open_rates_segment = df.groupby('segment')['opened'].mean().reset_index()\n",
    "plt.figure(figsize=(10, 5))\n",
    "sns.barplot(data=open_rates_segment, x='segment', y='opened')\n",
    "plt.title('Open Rates by Segment')\n",
    "plt.xlabel('Segment')\n",
    "plt.ylabel('Open Rate')\n",
    "plt.show()\n"
   ]
  },
  {
   "cell_type": "code",
   "execution_count": null,
   "metadata": {},
   "outputs": [],
   "source": [
    "with pd.ExcelWriter('email_campaign_report.xlsx', engine='openpyxl') as writer:\n",
    "    df.to_excel(writer, sheet_name='Raw Data', index=False)\n",
    "    summary_stats.to_excel(writer, sheet_name='Summary Statistics')\n",
    "    open_rates.to_frame(name='Open Rates').to_excel(writer, sheet_name='Open Rates Over Time')\n",
    "    ctr.to_frame(name='Click-Through Rates').to_excel(writer, sheet_name='Click-Through Rates Over Time')\n",
    "    open_rates_segment.to_excel(writer, sheet_name='Open Rates by Segment', index=False)\n"
   ]
  },
  {
   "cell_type": "code",
   "execution_count": null,
   "metadata": {},
   "outputs": [],
   "source": []
  }
 ],
 "metadata": {
  "language_info": {
   "name": "python"
  }
 },
 "nbformat": 4,
 "nbformat_minor": 2
}
